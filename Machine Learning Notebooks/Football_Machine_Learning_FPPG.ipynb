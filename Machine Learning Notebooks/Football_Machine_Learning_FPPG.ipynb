{
 "cells": [
  {
   "cell_type": "code",
   "execution_count": 2,
   "metadata": {},
   "outputs": [],
   "source": [
    "# Dependencies\n",
    "%matplotlib inline\n",
    "import matplotlib.pyplot as plt\n",
    "import numpy as np\n",
    "import pandas as pd"
   ]
  },
  {
   "cell_type": "code",
   "execution_count": 3,
   "metadata": {},
   "outputs": [
    {
     "data": {
      "text/html": [
       "<div>\n",
       "<style scoped>\n",
       "    .dataframe tbody tr th:only-of-type {\n",
       "        vertical-align: middle;\n",
       "    }\n",
       "\n",
       "    .dataframe tbody tr th {\n",
       "        vertical-align: top;\n",
       "    }\n",
       "\n",
       "    .dataframe thead th {\n",
       "        text-align: right;\n",
       "    }\n",
       "</style>\n",
       "<table border=\"1\" class=\"dataframe\">\n",
       "  <thead>\n",
       "    <tr style=\"text-align: right;\">\n",
       "      <th></th>\n",
       "      <th>Name</th>\n",
       "      <th>ID</th>\n",
       "      <th>Team</th>\n",
       "      <th>Position</th>\n",
       "      <th>GP</th>\n",
       "      <th>ATT(PASS)/G</th>\n",
       "      <th>ATT(RUN)/G</th>\n",
       "      <th>ATT(REC)/G</th>\n",
       "      <th>YDS(PASS)/G</th>\n",
       "      <th>YDS(RUN)/G</th>\n",
       "      <th>...</th>\n",
       "      <th>ATT(PASS)</th>\n",
       "      <th>ATT(RUN)</th>\n",
       "      <th>ATT(REC)</th>\n",
       "      <th>YDS(PASS)</th>\n",
       "      <th>YDS(RUN)</th>\n",
       "      <th>YDS(REC)</th>\n",
       "      <th>TD(PASS)</th>\n",
       "      <th>TD(RUN)</th>\n",
       "      <th>TD(REC)</th>\n",
       "      <th>Year</th>\n",
       "    </tr>\n",
       "  </thead>\n",
       "  <tbody>\n",
       "    <tr>\n",
       "      <th>0</th>\n",
       "      <td>Patrick Mahomes</td>\n",
       "      <td>1</td>\n",
       "      <td>KC</td>\n",
       "      <td>QB</td>\n",
       "      <td>16</td>\n",
       "      <td>36.3</td>\n",
       "      <td>3.8</td>\n",
       "      <td>0.0</td>\n",
       "      <td>319.0</td>\n",
       "      <td>17.0</td>\n",
       "      <td>...</td>\n",
       "      <td>580</td>\n",
       "      <td>60</td>\n",
       "      <td>0</td>\n",
       "      <td>5097</td>\n",
       "      <td>272</td>\n",
       "      <td>0</td>\n",
       "      <td>50</td>\n",
       "      <td>2</td>\n",
       "      <td>0</td>\n",
       "      <td>2018</td>\n",
       "    </tr>\n",
       "    <tr>\n",
       "      <th>1</th>\n",
       "      <td>Matt Ryan</td>\n",
       "      <td>2</td>\n",
       "      <td>ATL</td>\n",
       "      <td>QB</td>\n",
       "      <td>16</td>\n",
       "      <td>38.0</td>\n",
       "      <td>2.1</td>\n",
       "      <td>0.0</td>\n",
       "      <td>308.0</td>\n",
       "      <td>8.0</td>\n",
       "      <td>...</td>\n",
       "      <td>608</td>\n",
       "      <td>33</td>\n",
       "      <td>0</td>\n",
       "      <td>4924</td>\n",
       "      <td>125</td>\n",
       "      <td>0</td>\n",
       "      <td>35</td>\n",
       "      <td>3</td>\n",
       "      <td>0</td>\n",
       "      <td>2018</td>\n",
       "    </tr>\n",
       "    <tr>\n",
       "      <th>2</th>\n",
       "      <td>Ben Roethlisberger</td>\n",
       "      <td>3</td>\n",
       "      <td>PIT</td>\n",
       "      <td>QB</td>\n",
       "      <td>16</td>\n",
       "      <td>42.2</td>\n",
       "      <td>1.9</td>\n",
       "      <td>0.0</td>\n",
       "      <td>321.0</td>\n",
       "      <td>6.0</td>\n",
       "      <td>...</td>\n",
       "      <td>675</td>\n",
       "      <td>31</td>\n",
       "      <td>0</td>\n",
       "      <td>5129</td>\n",
       "      <td>98</td>\n",
       "      <td>0</td>\n",
       "      <td>34</td>\n",
       "      <td>3</td>\n",
       "      <td>0</td>\n",
       "      <td>2018</td>\n",
       "    </tr>\n",
       "    <tr>\n",
       "      <th>3</th>\n",
       "      <td>Ryan Fitzpatrick</td>\n",
       "      <td>4</td>\n",
       "      <td>WAS</td>\n",
       "      <td>QB</td>\n",
       "      <td>8</td>\n",
       "      <td>30.8</td>\n",
       "      <td>4.5</td>\n",
       "      <td>0.0</td>\n",
       "      <td>296.0</td>\n",
       "      <td>19.0</td>\n",
       "      <td>...</td>\n",
       "      <td>246</td>\n",
       "      <td>36</td>\n",
       "      <td>0</td>\n",
       "      <td>2366</td>\n",
       "      <td>152</td>\n",
       "      <td>0</td>\n",
       "      <td>17</td>\n",
       "      <td>2</td>\n",
       "      <td>0</td>\n",
       "      <td>2018</td>\n",
       "    </tr>\n",
       "    <tr>\n",
       "      <th>4</th>\n",
       "      <td>Drew Brees</td>\n",
       "      <td>5</td>\n",
       "      <td>NO</td>\n",
       "      <td>QB</td>\n",
       "      <td>15</td>\n",
       "      <td>32.6</td>\n",
       "      <td>2.1</td>\n",
       "      <td>0.0</td>\n",
       "      <td>266.0</td>\n",
       "      <td>1.0</td>\n",
       "      <td>...</td>\n",
       "      <td>489</td>\n",
       "      <td>31</td>\n",
       "      <td>0</td>\n",
       "      <td>3992</td>\n",
       "      <td>22</td>\n",
       "      <td>0</td>\n",
       "      <td>32</td>\n",
       "      <td>4</td>\n",
       "      <td>0</td>\n",
       "      <td>2018</td>\n",
       "    </tr>\n",
       "  </tbody>\n",
       "</table>\n",
       "<p>5 rows × 26 columns</p>\n",
       "</div>"
      ],
      "text/plain": [
       "                 Name  ID Team Position  GP  ATT(PASS)/G  ATT(RUN)/G  \\\n",
       "0     Patrick Mahomes   1   KC       QB  16         36.3         3.8   \n",
       "1           Matt Ryan   2  ATL       QB  16         38.0         2.1   \n",
       "2  Ben Roethlisberger   3  PIT       QB  16         42.2         1.9   \n",
       "3    Ryan Fitzpatrick   4  WAS       QB   8         30.8         4.5   \n",
       "4          Drew Brees   5   NO       QB  15         32.6         2.1   \n",
       "\n",
       "   ATT(REC)/G  YDS(PASS)/G  YDS(RUN)/G  ...  ATT(PASS)  ATT(RUN)  ATT(REC)  \\\n",
       "0         0.0        319.0        17.0  ...        580        60         0   \n",
       "1         0.0        308.0         8.0  ...        608        33         0   \n",
       "2         0.0        321.0         6.0  ...        675        31         0   \n",
       "3         0.0        296.0        19.0  ...        246        36         0   \n",
       "4         0.0        266.0         1.0  ...        489        31         0   \n",
       "\n",
       "   YDS(PASS)  YDS(RUN)  YDS(REC)  TD(PASS)  TD(RUN)  TD(REC)  Year  \n",
       "0       5097       272         0        50        2        0  2018  \n",
       "1       4924       125         0        35        3        0  2018  \n",
       "2       5129        98         0        34        3        0  2018  \n",
       "3       2366       152         0        17        2        0  2018  \n",
       "4       3992        22         0        32        4        0  2018  \n",
       "\n",
       "[5 rows x 26 columns]"
      ]
     },
     "execution_count": 3,
     "metadata": {},
     "output_type": "execute_result"
    }
   ],
   "source": [
    "# bring the dataset\n",
    "football = pd.read_csv('Master FF data (csb) ppr (new).csv')\n",
    "football.head()"
   ]
  },
  {
   "cell_type": "code",
   "execution_count": 4,
   "metadata": {},
   "outputs": [
    {
     "name": "stdout",
     "output_type": "stream",
     "text": [
      "Shape:  (1391, 1) (1391, 1)\n"
     ]
    }
   ],
   "source": [
    "# we assing the data to x and y\n",
    "X = football[\"ID\"].values.reshape(-1, 1)\n",
    "y = football[\"FPPG\"].values.reshape(-1, 1)\n",
    "\n",
    "print(\"Shape: \", X.shape, y.shape)"
   ]
  },
  {
   "cell_type": "code",
   "execution_count": 5,
   "metadata": {},
   "outputs": [
    {
     "data": {
      "text/plain": [
       "Text(0, 0.5, 'FPPG')"
      ]
     },
     "execution_count": 5,
     "metadata": {},
     "output_type": "execute_result"
    },
    {
     "data": {
      "image/png": "[encoded data removed]",
      "text/plain": [
       "<Figure size 432x288 with 1 Axes>"
      ]
     },
     "metadata": {
      "needs_background": "light"
     },
     "output_type": "display_data"
    }
   ],
   "source": [
    "# we will plot the data to see if a linear trend exists\n",
    "plt.scatter(X, y)\n",
    "plt.xlabel(\"ID\")\n",
    "plt.ylabel(\"FPPG\")"
   ]
  },
  {
   "cell_type": "code",
   "execution_count": 6,
   "metadata": {},
   "outputs": [],
   "source": [
    "# we will split the data into training and testing\n",
    "from sklearn.model_selection import train_test_split\n",
    "\n",
    "# begin solution\n",
    "X_train, X_test, y_train, y_test = train_test_split(X, y, random_state=42)"
   ]
  },
  {
   "cell_type": "code",
   "execution_count": 7,
   "metadata": {},
   "outputs": [],
   "source": [
    "# create the model\n",
    "from sklearn.linear_model import LinearRegression\n",
    "\n",
    "model = LinearRegression()"
   ]
  },
  {
   "cell_type": "code",
   "execution_count": 8,
   "metadata": {},
   "outputs": [
    {
     "data": {
      "text/plain": [
       "LinearRegression()"
      ]
     },
     "execution_count": 8,
     "metadata": {},
     "output_type": "execute_result"
    }
   ],
   "source": [
    "# we will fit the model\n",
    "model.fit(X_train, y_train)"
   ]
  },
  {
   "cell_type": "code",
   "execution_count": 9,
   "metadata": {},
   "outputs": [
    {
     "name": "stdout",
     "output_type": "stream",
     "text": [
      "Mean Squared Error (MSE): 31.988454239987846\n",
      "R-squared (R2 ): 0.16224541548613713\n"
     ]
    }
   ],
   "source": [
    "# we will calculate mean_squared_error and the r-squared value\n",
    "from sklearn.metrics import mean_squared_error, r2_score\n",
    "\n",
    "# using the model to make predictions\n",
    "predicted = model.predict(X_test)\n",
    "\n",
    "# score the predictions with mse and r2\n",
    "mse = mean_squared_error(y_test, predicted)\n",
    "r2 = r2_score(y_test, predicted)\n",
    "\n",
    "print(f\"Mean Squared Error (MSE): {mse}\")\n",
    "print(f\"R-squared (R2 ): {r2}\")"
   ]
  },
  {
   "cell_type": "code",
   "execution_count": 10,
   "metadata": {},
   "outputs": [
    {
     "data": {
      "text/plain": [
       "0.16224541548613713"
      ]
     },
     "execution_count": 10,
     "metadata": {},
     "output_type": "execute_result"
    }
   ],
   "source": [
    "# call the score methon on the model to show the r2 score\n",
    "model.score(X_test, y_test)"
   ]
  },
  {
   "cell_type": "code",
   "execution_count": 11,
   "metadata": {},
   "outputs": [
    {
     "data": {
      "text/plain": [
       "<function matplotlib.pyplot.show(close=None, block=None)>"
      ]
     },
     "execution_count": 11,
     "metadata": {},
     "output_type": "execute_result"
    },
    {
     "data": {
      "image/png": "[encoded data removed]",
      "text/plain": [
       "<Figure size 432x288 with 1 Axes>"
      ]
     },
     "metadata": {
      "needs_background": "light"
     },
     "output_type": "display_data"
    }
   ],
   "source": [
    "plt.plot(y_test)\n",
    "plt.plot(predicted, color = 'red')\n",
    "plt.show"
   ]
  },
  {
   "cell_type": "code",
   "execution_count": 12,
   "metadata": {},
   "outputs": [],
   "source": [
    "##\n",
    "##Making the new predicted values with 100% of the data\n",
    "##"
   ]
  },
  {
   "cell_type": "code",
   "execution_count": 13,
   "metadata": {},
   "outputs": [],
   "source": [
    "# create the model to get values for all IDs\n",
    "from sklearn.linear_model import LinearRegression\n",
    "\n",
    "model_2 = LinearRegression()"
   ]
  },
  {
   "cell_type": "code",
   "execution_count": 14,
   "metadata": {},
   "outputs": [
    {
     "data": {
      "text/plain": [
       "LinearRegression()"
      ]
     },
     "execution_count": 14,
     "metadata": {},
     "output_type": "execute_result"
    }
   ],
   "source": [
    "# we will fit the model\n",
    "model_2.fit(X, y)"
   ]
  },
  {
   "cell_type": "code",
   "execution_count": 15,
   "metadata": {},
   "outputs": [
    {
     "name": "stdout",
     "output_type": "stream",
     "text": [
      "Mean Squared Error (MSE): 33.08881384929177\n",
      "R-squared (R2 ): 0.198334309294114\n"
     ]
    }
   ],
   "source": [
    "# we will calculate mean_squared_error and the r-squared value\n",
    "from sklearn.metrics import mean_squared_error, r2_score\n",
    "\n",
    "# using the model to make predictions\n",
    "predicted_2 = model_2.predict(X)\n",
    "\n",
    "# score the predictions with mse and r2\n",
    "mse = mean_squared_error(y, predicted_2)\n",
    "r2 = r2_score(y, predicted_2)\n",
    "\n",
    "print(f\"Mean Squared Error (MSE): {mse}\")\n",
    "print(f\"R-squared (R2 ): {r2}\")"
   ]
  },
  {
   "cell_type": "code",
   "execution_count": 16,
   "metadata": {},
   "outputs": [
    {
     "data": {
      "text/plain": [
       "0.198334309294114"
      ]
     },
     "execution_count": 16,
     "metadata": {},
     "output_type": "execute_result"
    }
   ],
   "source": [
    "# call the score methon on the model to show the r2 score\n",
    "model_2.score(X, y)"
   ]
  },
  {
   "cell_type": "code",
   "execution_count": 17,
   "metadata": {
    "scrolled": true
   },
   "outputs": [
    {
     "data": {
      "text/plain": [
       "array([[13.59830816],\n",
       "       [13.5803626 ],\n",
       "       [13.56241704],\n",
       "       ...,\n",
       "       [ 8.57355105],\n",
       "       [ 3.10015491],\n",
       "       [ 6.16884586]])"
      ]
     },
     "execution_count": 17,
     "metadata": {},
     "output_type": "execute_result"
    }
   ],
   "source": [
    "# we want to look at our array\n",
    "predicted_2"
   ]
  },
  {
   "cell_type": "code",
   "execution_count": 19,
   "metadata": {},
   "outputs": [],
   "source": [
    "# we will put the array into a dataframe\n",
    "df = pd.DataFrame(predicted_2, \n",
    "             columns=['Predicted_Values_FPPG'])"
   ]
  },
  {
   "cell_type": "code",
   "execution_count": 20,
   "metadata": {},
   "outputs": [
    {
     "data": {
      "text/html": [
       "<div>\n",
       "<style scoped>\n",
       "    .dataframe tbody tr th:only-of-type {\n",
       "        vertical-align: middle;\n",
       "    }\n",
       "\n",
       "    .dataframe tbody tr th {\n",
       "        vertical-align: top;\n",
       "    }\n",
       "\n",
       "    .dataframe thead th {\n",
       "        text-align: right;\n",
       "    }\n",
       "</style>\n",
       "<table border=\"1\" class=\"dataframe\">\n",
       "  <thead>\n",
       "    <tr style=\"text-align: right;\">\n",
       "      <th></th>\n",
       "      <th>Predicted_Values_FPPG</th>\n",
       "    </tr>\n",
       "  </thead>\n",
       "  <tbody>\n",
       "    <tr>\n",
       "      <th>0</th>\n",
       "      <td>13.598308</td>\n",
       "    </tr>\n",
       "    <tr>\n",
       "      <th>1</th>\n",
       "      <td>13.580363</td>\n",
       "    </tr>\n",
       "    <tr>\n",
       "      <th>2</th>\n",
       "      <td>13.562417</td>\n",
       "    </tr>\n",
       "    <tr>\n",
       "      <th>3</th>\n",
       "      <td>13.544471</td>\n",
       "    </tr>\n",
       "    <tr>\n",
       "      <th>4</th>\n",
       "      <td>13.526526</td>\n",
       "    </tr>\n",
       "    <tr>\n",
       "      <th>...</th>\n",
       "      <td>...</td>\n",
       "    </tr>\n",
       "    <tr>\n",
       "      <th>1386</th>\n",
       "      <td>8.986299</td>\n",
       "    </tr>\n",
       "    <tr>\n",
       "      <th>1387</th>\n",
       "      <td>3.118100</td>\n",
       "    </tr>\n",
       "    <tr>\n",
       "      <th>1388</th>\n",
       "      <td>8.573551</td>\n",
       "    </tr>\n",
       "    <tr>\n",
       "      <th>1389</th>\n",
       "      <td>3.100155</td>\n",
       "    </tr>\n",
       "    <tr>\n",
       "      <th>1390</th>\n",
       "      <td>6.168846</td>\n",
       "    </tr>\n",
       "  </tbody>\n",
       "</table>\n",
       "<p>1391 rows × 1 columns</p>\n",
       "</div>"
      ],
      "text/plain": [
       "      Predicted_Values_FPPG\n",
       "0                 13.598308\n",
       "1                 13.580363\n",
       "2                 13.562417\n",
       "3                 13.544471\n",
       "4                 13.526526\n",
       "...                     ...\n",
       "1386               8.986299\n",
       "1387               3.118100\n",
       "1388               8.573551\n",
       "1389               3.100155\n",
       "1390               6.168846\n",
       "\n",
       "[1391 rows x 1 columns]"
      ]
     },
     "execution_count": 20,
     "metadata": {},
     "output_type": "execute_result"
    }
   ],
   "source": [
    "# let us see the dataframe\n",
    "df"
   ]
  },
  {
   "cell_type": "code",
   "execution_count": 22,
   "metadata": {
    "scrolled": true
   },
   "outputs": [
    {
     "data": {
      "text/plain": [
       "0       13.598308\n",
       "1       13.580363\n",
       "2       13.562417\n",
       "3       13.544471\n",
       "4       13.526526\n",
       "          ...    \n",
       "1386     8.986299\n",
       "1387     3.118100\n",
       "1388     8.573551\n",
       "1389     3.100155\n",
       "1390     6.168846\n",
       "Name: Predicted_Values_FPPG, Length: 1391, dtype: float64"
      ]
     },
     "execution_count": 22,
     "metadata": {},
     "output_type": "execute_result"
    }
   ],
   "source": [
    "# we want to only have the numeric values\n",
    "only_values = df['Predicted_Values_FPPG']\n",
    "only_values"
   ]
  },
  {
   "cell_type": "code",
   "execution_count": 24,
   "metadata": {},
   "outputs": [],
   "source": [
    "# let us merge the dataframes by index\n",
    "Final_data = pd.merge(football,only_values , left_index=True, right_index=True)"
   ]
  },
  {
   "cell_type": "code",
   "execution_count": 25,
   "metadata": {},
   "outputs": [],
   "source": [
    "Final_data.to_csv('Predicted_values_FPPG.csv')"
   ]
  },
  {
   "cell_type": "code",
   "execution_count": null,
   "metadata": {},
   "outputs": [],
   "source": []
  }
 ],
 "metadata": {
  "kernelspec": {
   "display_name": "Python 3",
   "language": "python",
   "name": "python3"
  },
  "language_info": {
   "codemirror_mode": {
    "name": "ipython",
    "version": 3
   },
   "file_extension": ".py",
   "mimetype": "text/x-python",
   "name": "python",
   "nbconvert_exporter": "python",
   "pygments_lexer": "ipython3",
   "version": "3.8.5"
  }
 },
 "nbformat": 4,
 "nbformat_minor": 4
}
